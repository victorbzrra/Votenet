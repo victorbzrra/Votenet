{
 "cells": [
  {
   "cell_type": "markdown",
   "metadata": {},
   "source": [
    "MMDetection3D is an open source object detection toolbox based on PyTorch, towards the next-generation platform for general 3D detection. It is a part of the OpenMMLab project. @misc{mmdet3d2020,\n",
    "    title={{MMDetection3D: OpenMMLab} next-generation platform for general {3D} object detection},\n",
    "    author={MMDetection3D Contributors},\n",
    "    howpublished = {\\url{https://github.com/open-mmlab/mmdetection3d}},\n",
    "    year={2020}\n",
    "}"
   ]
  },
  {
   "cell_type": "code",
   "execution_count": null,
   "metadata": {},
   "outputs": [],
   "source": [
    "# Redução e limpeza da nuvem utilizando a biblioteca open3d.\n",
    "import open3d as o3d\n",
    "\n",
    "point_cloud = o3d.io.read_point_cloud(\"./input.ply\") # caminho para o arquivo de entrada da nuvem.\n",
    "pcd_filtered = point_cloud.voxel_down_sample(voxel_size=0.005) # voxel_size - variável de controle.\n",
    "pcd_filter, ind = pcd_filtered.remove_statistical_outlier(nb_neighbors=20, std_ratio=1) #nb_neighbors e std_ratio - variáveis de controle.\n",
    "\n",
    "o3d.io.write_point_cloud(\"./output.ply\", pcd_filter) # caminho para o arquivo de saída da nuvem reduzida."
   ]
  },
  {
   "cell_type": "code",
   "execution_count": null,
   "metadata": {},
   "outputs": [],
   "source": [
    "# Visualização da Nuvem utilizando a biblioteca \"Trimesh\".\n",
    "import trimesh\n",
    "\n",
    "cloud = trimesh.load(\"./output.ply\") # caminho para o arquivo a ser visualizado.\n",
    "pcd = trimesh.PointCloud(cloud.vertices, cloud.colors) # inclui os vértices e cores a nuvem a ser visualizada.\n",
    "scene = trimesh.Scene([pcd]) # cria uma cena contendo a nuvem carregada.\n",
    "scene.show() # comando para visualização da nuvem."
   ]
  },
  {
   "cell_type": "code",
   "execution_count": null,
   "metadata": {},
   "outputs": [],
   "source": [
    "# Preparação da nuvem para inferência.\n",
    "import numpy as np\n",
    "import pandas as pd\n",
    "from plyfile import PlyData\n",
    "\n",
    "# Método de apoio para inspeção da nuvem.\n",
    "def inspect_ply(input_path):\n",
    "    plydata = PlyData.read(input_path)\n",
    "    data = plydata.elements[0].data\n",
    "    property_names = data[0].dtype.names\n",
    "    print(f\"Number of points: {len(data)}\")\n",
    "    print(f\"Properties per point: {property_names}\")\n",
    "\n",
    "# inspect_ply('./input.ply') # caminho do arquivo da nuvem a ser inspecionada.\n",
    "\n",
    "# Converte a nuvem de entrada com extensão \".ply\" para \".bin\" (extensão necessária para realização da inferência).\n",
    "# O método abaixo foi adaptado a partir das implementações da biblioteca MMDetection3D para converter corretamente \n",
    "# nuvens com qualquer quantidade de pontos.\n",
    "def convert_ply(input_path, output_path):\n",
    "    plydata = PlyData.read(input_path)  # leitura do arquivo\n",
    "    data = plydata.elements[0].data  # obtenção dos dados\n",
    "    data_pd = pd.DataFrame(data)  # converte para DataFrame.\n",
    "    \n",
    "    # Especifica as propriedades a serem utilizadas.\n",
    "    properties_to_use = ['x', 'y', 'z', 'nx', 'ny', 'nz']\n",
    "    num_points = data_pd.shape[0]\n",
    "    num_properties = len(properties_to_use)\n",
    "    \n",
    "    data_np = np.zeros((num_points, num_properties), dtype=np.float64)  # inicializa array para armazenar dados.\n",
    "    \n",
    "    for i, name in enumerate(properties_to_use):  # ler dados por propriedade.\n",
    "        data_np[:, i] = data_pd[name]\n",
    "    \n",
    "    # salva o array em um arquivo binário.\n",
    "    data_np.astype(np.float32).tofile(output_path)\n",
    "\n",
    "convert_ply('./input.ply', './output.bin') # caminho da nuvem de entrada / caminho para nuvem de saída."
   ]
  },
  {
   "cell_type": "markdown",
   "metadata": {},
   "source": [
    "### Executando inferência para Detecção com modelo pré-treinado.\n",
    "```python ./mmdetection3d/demo/pcd_demo.py ./test.bin ./checkpoints/votenet_8xb16_sunrgbd-3d.py ./checkpoints/votenet_16x8_sunrgbd-3d-10class_20210820_162823-bf11f014.pth --pred-score-thr 0.99```\n",
    "\n",
    "- ```./mmdetection3d/demo/pcd_demo.py``` - caminho para o algoritmo de demonstração.\n",
    "- ```./test.bin``` - caminho para nuvem a ser inferida.\n",
    "- ```./checkpoints/votenet_8xb16_sunrgbd-3d.py``` - caminho para modelo de inferencia.\n",
    "- ```./checkpoints/votenet_16x8_sunrgbd-3d-10class_20210820_162823-bf11f014.pth``` - caminho para checkpoint.\n",
    "- ```--pred-score-thr 0.99``` - define score mínimo para inferência."
   ]
  }
 ],
 "metadata": {
  "kernelspec": {
   "display_name": "openmmlab",
   "language": "python",
   "name": "python3"
  },
  "language_info": {
   "name": "python",
   "version": "3.8.19"
  }
 },
 "nbformat": 4,
 "nbformat_minor": 2
}
