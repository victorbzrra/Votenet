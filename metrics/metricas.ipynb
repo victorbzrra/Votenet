{
  "cells": [
    {
      "cell_type": "code",
      "execution_count": null,
      "metadata": {
        "colab": {
          "base_uri": "https://localhost:8080/"
        },
        "collapsed": true,
        "id": "1R1gkVGffC_x",
        "outputId": "3ee5d6f7-0884-479f-d515-56284b74b770"
      },
      "outputs": [],
      "source": [
        "!pip install open3d\n",
        "!pip install trimesh\n",
        "!pip install plotly\n",
        "!pip install openpyxl\n",
        "!pip install pandas"
      ]
    },
    {
      "cell_type": "markdown",
      "metadata": {
        "id": "LFbr_LOFZ-f4"
      },
      "source": [
        "### imports"
      ]
    },
    {
      "cell_type": "code",
      "execution_count": null,
      "metadata": {
        "id": "onlyp3p3MJpQ"
      },
      "outputs": [],
      "source": [
        "import matplotlib.pyplot as plt\n",
        "import open3d as o3d\n",
        "import numpy as np\n",
        "import copy\n",
        "import plotly.graph_objects as go\n",
        "import trimesh\n",
        "from scipy.spatial.distance import directed_hausdorff\n",
        "import threading\n",
        "import pandas as pd"
      ]
    },
    {
      "cell_type": "markdown",
      "metadata": {
        "id": "eeJEsLRRgzqP"
      },
      "source": [
        "### Metodos"
      ]
    },
    {
      "cell_type": "code",
      "execution_count": null,
      "metadata": {
        "id": "pD8d8G9daF7E"
      },
      "outputs": [],
      "source": [
        "# Função para carregar uma nuvem de pontos a partir de um arquivo PLY\n",
        "def load_point_cloud(file_path):\n",
        "    point_cloud = o3d.io.read_point_cloud(file_path)\n",
        "    return point_cloud\n",
        "\n",
        "# Função para alinhar duas nuvens de pontos usando ICP (Iterative Closest Point)\n",
        "def align_point_clouds(source, target):\n",
        "    threshold = 0.02  # Distância de correspondência dos pontos\n",
        "    trans_init = np.identity(4)  # Transformação inicial\n",
        "\n",
        "    reg_p2p = o3d.pipelines.registration.registration_icp(\n",
        "        source, target, threshold, trans_init,\n",
        "        o3d.pipelines.registration.TransformationEstimationPointToPoint())\n",
        "\n",
        "    return reg_p2p.transformation"
      ]
    },
    {
      "cell_type": "code",
      "execution_count": null,
      "metadata": {
        "id": "52OY2sZjaI8Q"
      },
      "outputs": [],
      "source": [
        "# Função para calcular a Medida de Similaridade das Nuvens (Cloud-to-Cloud Distance)\n",
        "def calculate_cloud_similarity(source, target, transformation):\n",
        "    source_temp = copy.deepcopy(source)\n",
        "    source_temp.transform(transformation)\n",
        "\n",
        "    distances = source_temp.compute_point_cloud_distance(target)\n",
        "    distances = np.asarray(distances)\n",
        "\n",
        "    return distances"
      ]
    },
    {
      "cell_type": "code",
      "execution_count": null,
      "metadata": {
        "id": "VLNh0P7QkTbz"
      },
      "outputs": [],
      "source": [
        "# Função para calcular a Distância Hausdorff\n",
        "def hausdorff_distance(source_points, target_points):\n",
        "    d_forward = directed_hausdorff(source_points, target_points)[0]\n",
        "    d_backward = directed_hausdorff(target_points, source_points)[0]\n",
        "    return max(d_forward, d_backward)\n",
        "\n",
        "# Função para calcular o Índice de Jaccard\n",
        "def jaccard_index(source_points, target_points, voxel_size=0.02):\n",
        "    source_voxel = o3d.geometry.VoxelGrid.create_from_point_cloud(o3d.geometry.PointCloud(o3d.utility.Vector3dVector(source_points)), voxel_size)\n",
        "    target_voxel = o3d.geometry.VoxelGrid.create_from_point_cloud(o3d.geometry.PointCloud(o3d.utility.Vector3dVector(target_points)), voxel_size)\n",
        "\n",
        "    source_voxel_coords = set(tuple(v.grid_index) for v in source_voxel.get_voxels())\n",
        "    target_voxel_coords = set(tuple(v.grid_index) for v in target_voxel.get_voxels())\n",
        "\n",
        "    intersection = source_voxel_coords.intersection(target_voxel_coords)\n",
        "    union = source_voxel_coords.union(target_voxel_coords)\n",
        "\n",
        "    if not union:\n",
        "        return 1.0  # Caso especial onde ambas as nuvens de pontos não têm voxels\n",
        "\n",
        "    jaccard = len(intersection) / len(union)\n",
        "    return jaccard"
      ]
    },
    {
      "cell_type": "code",
      "execution_count": null,
      "metadata": {
        "id": "ISlm0MBSKtIc"
      },
      "outputs": [],
      "source": [
        "def compare_point_clouds(source_file_path, target_file_path, comparison_name):\n",
        "    source_cloud = load_point_cloud(source_file_path)\n",
        "    target_cloud = load_point_cloud(target_file_path)\n",
        "\n",
        "    transformation = align_point_clouds(source_cloud, target_cloud)\n",
        "    source_cloud.transform(transformation)\n",
        "\n",
        "    # Obter os pontos alinhados\n",
        "    source_points = np.asarray(source_cloud.points)\n",
        "    target_points = np.asarray(target_cloud.points)\n",
        "\n",
        "    # Calcular a Distância Hausdorff\n",
        "    hausdorff_dist = hausdorff_distance(source_points, target_points)\n",
        "\n",
        "    # Calcular o Índice de Jaccard\n",
        "    jaccard_idx = jaccard_index(source_points, target_points)\n",
        "\n",
        "    # Calcular a Medida de Similaridade das Nuvens\n",
        "    distances = calculate_cloud_similarity(source_cloud, target_cloud, transformation)\n",
        "    mean_distance = np.mean(distances)\n",
        "    std_distance = np.std(distances)\n",
        "    min_distance = np.min(distances)\n",
        "    max_distance = np.max(distances)\n",
        "\n",
        "    results = {\n",
        "        \"Comparison\": comparison_name,\n",
        "        \"Hausdorff Distance\": hausdorff_dist,\n",
        "        \"Jaccard Index\": jaccard_idx,\n",
        "        \"Mean Distance\": mean_distance,\n",
        "        \"Standard Deviation\": std_distance,\n",
        "        \"Minimum Distance\": min_distance,\n",
        "        \"Maximum Distance\": max_distance\n",
        "    }\n",
        "    return results"
      ]
    },
    {
      "cell_type": "code",
      "execution_count": null,
      "metadata": {
        "id": "otrJX6ylKynh"
      },
      "outputs": [],
      "source": [
        "def save_results_to_excel(results, output_file=\"comparison_results.xlsx\"):\n",
        "    df = pd.DataFrame(results)\n",
        "    df.to_excel(output_file, index=False)\n",
        "\n",
        "def run_comparisons(comparisons):\n",
        "    results = []\n",
        "    threads = []\n",
        "\n",
        "    for comparison in comparisons:\n",
        "        source_file, target_file, comparison_name = comparison\n",
        "        thread = threading.Thread(target=lambda: results.append(compare_point_clouds(source_file, target_file, comparison_name)))\n",
        "        threads.append(thread)\n",
        "        thread.start()\n",
        "\n",
        "    for thread in threads:\n",
        "        thread.join()\n",
        "\n",
        "    save_results_to_excel(results)"
      ]
    },
    {
      "cell_type": "markdown",
      "metadata": {
        "id": "rr5e12Nig2mK"
      },
      "source": [
        "### Aplicação"
      ]
    },
    {
      "cell_type": "markdown",
      "metadata": {
        "id": "qjqT-g-HlHir"
      },
      "source": [
        "estudar essas metricas"
      ]
    },
    {
      "cell_type": "markdown",
      "metadata": {
        "id": "1GIo_nGplV2j"
      },
      "source": [
        "Distância Hausdorff relativamente alta (0.4997) pode indicar que há alguns pontos na nuvem de pontos fonte que estão bastante distantes de seus correspondentes na nuvem de pontos alvo. No entanto, um Índice de Jaccard alto (0.9515) indica que, apesar dessas discrepâncias, a maioria dos pontos na nuvem de pontos fonte tem correspondência próxima na nuvem de pontos alvo."
      ]
    },
    {
      "cell_type": "code",
      "execution_count": null,
      "metadata": {
        "id": "dV485nKSLD9z"
      },
      "outputs": [],
      "source": [
        "# source_file_path = \"/content/drive/MyDrive/TCC/Recortes TJA/test_recorte_automatico_cadeira_direita.ply\"\n",
        "# target_file_path = \"/content/drive/MyDrive/TCC/Recortes TJA/test_recorte_manual_cadeira_direita.ply\"\n",
        "\n",
        "# source_cloud = load_point_cloud(source_file_path)\n",
        "# target_cloud = load_point_cloud(target_file_path)"
      ]
    },
    {
      "cell_type": "markdown",
      "metadata": {
        "id": "DkIrG0O0kyPm"
      },
      "source": [
        "#### Pronto para uso:"
      ]
    },
    {
      "cell_type": "code",
      "execution_count": null,
      "metadata": {
        "id": "8TqwjeyfadNY"
      },
      "outputs": [],
      "source": [
        "# Calcular a Medida de Similaridade das Nuvens\n",
        "# distances = calculate_cloud_similarity(source_cloud, target_cloud, transformation)\n",
        "# mean_distance = np.mean(distances)\n",
        "# std_distance = np.std(distances)\n",
        "# min_distance = np.min(distances)\n",
        "# max_distance = np.max(distances)\n",
        "\n",
        "# print(f\"Mean Distance: {mean_distance}\")\n",
        "# print(f\"Standard Deviation of Distance: {std_distance}\")\n",
        "# print(f\"Minimum Distance: {min_distance}\")\n",
        "# print(f\"Maximum Distance: {max_distance}\")"
      ]
    },
    {
      "cell_type": "code",
      "execution_count": null,
      "metadata": {
        "id": "98W9EtVvK7Px"
      },
      "outputs": [],
      "source": [
        "if __name__ == \"__main__\":\n",
        "    comparisons = [\n",
        "        (\"/content/drive/MyDrive/TCC/Recortes TJA/test_recorte_automatico_cadeira_direita.ply\", \"/content/drive/MyDrive/TCC/Recortes TJA/test_recorte_manual_cadeira_direita.ply\", \"Comparacao 1\"),\n",
        "        (\"/content/drive/MyDrive/TCC/Recortes TJA/test_recorte_automatico_cadeira_direita.ply\", \"/content/drive/MyDrive/TCC/Recortes TJA/test_recorte_manual_cadeira_direita.ply\", \"Comparacao 2\"),\n",
        "        # Adicione mais comparações conforme necessário\n",
        "    ]\n",
        "\n",
        "    run_comparisons(comparisons)"
      ]
    },
    {
      "cell_type": "code",
      "execution_count": null,
      "metadata": {
        "colab": {
          "base_uri": "https://localhost:8080/"
        },
        "id": "rKlbTnSNMTxD",
        "outputId": "b88def84-1850-462e-97b5-1ced14a68e70"
      },
      "outputs": [
        {
          "name": "stdout",
          "output_type": "stream",
          "text": [
            "Mounted at /content/drive\n"
          ]
        }
      ],
      "source": [
        "from google.colab import drive\n",
        "drive.mount('/content/drive')"
      ]
    },
    {
      "cell_type": "markdown",
      "metadata": {
        "id": "cUVMJn7odAdo"
      },
      "source": [
        "### Interpretação Geral\n",
        "* **Alinhamento Geral:** Os valores de distância média e desvio padrão baixos sugerem que as duas nuvens de pontos estão bem alinhadas e são bastante similares, pelo menos na maior parte dos pontos.\n",
        "* **Outliers:** A distância máxima relativamente alta em comparação com a média e o desvio padrão pode indicar a presença de alguns pontos que não estão bem alinhados ou são outliers. Isso é comum em nuvens de pontos reais, onde podem haver discrepâncias ou ruídos.\n",
        "<br/>\n",
        "<br/>\n",
        "<br/>\n",
        "\n",
        "1. **Mean Distance (Distância Média):** 0.0002849153982671583 </br>\n",
        "  A distância média entre os pontos da nuvem de origem e a nuvem alvo após o alinhamento. Um valor baixo indica que, em média, os pontos das duas nuvens estão muito próximos um do outro, sugerindo um bom alinhamento e alta similaridade.\n",
        "\n",
        "2. **Standard Deviation of Distance (Desvio Padrão da Distância):** 0.007480607814804095\n",
        "\n",
        "  O desvio padrão das distâncias fornece uma medida de dispersão em torno da média. Um valor baixo indica que a maioria das distâncias está próxima da média, enquanto um valor alto indicaria uma maior variação nas distâncias. Neste caso, o desvio padrão é relativamente baixo, sugerindo que a maioria dos pontos está consistentemente próxima após o alinhamento.\n",
        "\n",
        "3. **Minimum Distance (Distância Mínima):** 6.440035415237413e-06\n",
        "\n",
        " A menor distância entre um ponto da nuvem de origem e a nuvem alvo. Um valor muito próximo de zero indica que pelo menos um ponto da nuvem de origem está quase exatamente sobre um ponto correspondente na nuvem alvo.\n",
        "\n",
        "4. **Maximum Distance (Distância Máxima):** 0.4997136207086249\n",
        "\n",
        "  A maior distância entre um ponto da nuvem de origem e a nuvem alvo. Um valor mais alto pode indicar a presença de outliers ou áreas onde o alinhamento não foi tão eficaz. No entanto, isso pode depender da escala e do contexto da nuvem de pontos."
      ]
    },
    {
      "cell_type": "markdown",
      "metadata": {
        "id": "y42yOE99h7U6"
      },
      "source": [
        "## Explicação do metodo ICP:\n",
        "### O Que é ICP (Iterative Closest Point)?\n",
        "\n",
        "**ICP (Iterative Closest Point)** é um algoritmo amplamente utilizado em visão computacional e gráficos 3D para alinhar duas nuvens de pontos tridimensionais. Este método foi proposto inicialmente por Paul Besl e Neil McKay em 1992. A principal finalidade do ICP é encontrar a transformação (rotação e translação) que melhor alinha uma nuvem de pontos \"fonte\" com uma nuvem de pontos \"alvo\". Abaixo, detalho os passos fundamentais e algumas considerações importantes sobre o algoritmo:\n",
        "\n",
        "#### Passos do Algoritmo ICP:\n",
        "\n",
        "1. **Inicialização:**\n",
        "   - Começa com uma transformação inicial estimada, que pode ser a identidade (sem transformação) ou uma transformação aproximada fornecida por outro método.\n",
        "\n",
        "2. **Correspondência de Pontos:**\n",
        "   - Para cada ponto na nuvem de pontos fonte, o algoritmo encontra o ponto mais próximo na nuvem de pontos alvo. Isto é feito calculando a distância euclidiana entre os pontos e selecionando o mais próximo.\n",
        "\n",
        "3. **Cálculo da Transformação:**\n",
        "   - Com as correspondências de pontos determinadas, o algoritmo calcula a transformação (geralmente uma combinação de rotação e translação) que minimiza a distância média entre os pontos correspondentes.\n",
        "\n",
        "4. **Aplicação da Transformação:**\n",
        "   - A transformação calculada é aplicada à nuvem de pontos fonte.\n",
        "\n",
        "5. **Iteração:**\n",
        "   - Os passos de correspondência de pontos, cálculo da transformação e aplicação da transformação são repetidos iterativamente até que a mudança na distância média entre as nuvens de pontos em iterações sucessivas seja menor que um valor de tolerância predefinido ou um número máximo de iterações seja atingido.\n",
        "\n",
        "#### Considerações Importantes:\n",
        "\n",
        "- **Convergência Local:**\n",
        "  - O ICP é um algoritmo de otimização local e, portanto, pode convergir para mínimos locais. Isso significa que a qualidade da solução pode depender fortemente da transformação inicial fornecida.\n",
        "\n",
        "- **Velocidade e Eficiência:**\n",
        "  - Encontrar correspondências de pontos é a parte mais intensiva computacionalmente do algoritmo. Técnicas como a utilização de estruturas de dados eficientes (por exemplo, k-d trees) podem acelerar essa etapa.\n",
        "\n",
        "- **Robustez:**\n",
        "  - A presença de ruído e outliers nas nuvens de pontos pode afetar negativamente o desempenho do ICP. Extensões do algoritmo padrão, como ICP robusto ou variantes ponderadas, foram desenvolvidas para lidar melhor com esses casos.\n",
        "\n",
        "- **Aplicações:**\n",
        "  - O ICP é utilizado em várias aplicações, incluindo reconstrução 3D, registro de dados de varredura a laser, fusão de dados de sensores, robótica e realidade aumentada.\n",
        "\n",
        "### Conclusão\n",
        "\n",
        "O algoritmo ICP é uma ferramenta poderosa e amplamente utilizada para o alinhamento de nuvens de pontos. Embora seja simples em conceito, sua eficácia depende de fatores como a qualidade da transformação inicial e a presença de ruído nos dados. Apesar de suas limitações, a flexibilidade e a capacidade de ser adaptado e estendido tornam o ICP uma escolha popular em muitos campos relacionados à computação gráfica e à visão computacional."
      ]
    }
  ],
  "metadata": {
    "colab": {
      "provenance": []
    },
    "kernelspec": {
      "display_name": "Python 3",
      "name": "python3"
    },
    "language_info": {
      "name": "python"
    }
  },
  "nbformat": 4,
  "nbformat_minor": 0
}
