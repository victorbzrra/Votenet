{
  "cells": [
    {
      "cell_type": "markdown",
      "metadata": {
        "id": "eeJEsLRRgzqP"
      },
      "source": [
        "### Métodos"
      ]
    },
    {
      "cell_type": "code",
      "execution_count": 3,
      "metadata": {
        "id": "VLNh0P7QkTbz"
      },
      "outputs": [
        {
          "name": "stdout",
          "output_type": "stream",
          "text": [
            "Requirement already satisfied: open3d in c:\\users\\victor\\.conda\\envs\\openmmlab\\lib\\site-packages (0.18.0)\n",
            "Requirement already satisfied: numpy>=1.18.0 in c:\\users\\victor\\.conda\\envs\\openmmlab\\lib\\site-packages (from open3d) (1.24.3)\n",
            "Requirement already satisfied: dash>=2.6.0 in c:\\users\\victor\\.conda\\envs\\openmmlab\\lib\\site-packages (from open3d) (2.17.1)\n",
            "Requirement already satisfied: werkzeug>=2.2.3 in c:\\users\\victor\\.conda\\envs\\openmmlab\\lib\\site-packages (from open3d) (3.0.3)\n",
            "Requirement already satisfied: nbformat>=5.7.0 in c:\\users\\victor\\.conda\\envs\\openmmlab\\lib\\site-packages (from open3d) (5.10.4)\n",
            "Requirement already satisfied: configargparse in c:\\users\\victor\\.conda\\envs\\openmmlab\\lib\\site-packages (from open3d) (1.7)\n",
            "Requirement already satisfied: ipywidgets>=8.0.4 in c:\\users\\victor\\.conda\\envs\\openmmlab\\lib\\site-packages (from open3d) (8.1.3)\n",
            "Requirement already satisfied: Flask<3.1,>=1.0.4 in c:\\users\\victor\\.conda\\envs\\openmmlab\\lib\\site-packages (from dash>=2.6.0->open3d) (3.0.3)\n",
            "Requirement already satisfied: plotly>=5.0.0 in c:\\users\\victor\\.conda\\envs\\openmmlab\\lib\\site-packages (from dash>=2.6.0->open3d) (5.22.0)\n",
            "Requirement already satisfied: dash-html-components==2.0.0 in c:\\users\\victor\\.conda\\envs\\openmmlab\\lib\\site-packages (from dash>=2.6.0->open3d) (2.0.0)\n",
            "Requirement already satisfied: dash-core-components==2.0.0 in c:\\users\\victor\\.conda\\envs\\openmmlab\\lib\\site-packages (from dash>=2.6.0->open3d) (2.0.0)\n",
            "Requirement already satisfied: dash-table==5.0.0 in c:\\users\\victor\\.conda\\envs\\openmmlab\\lib\\site-packages (from dash>=2.6.0->open3d) (5.0.0)\n",
            "Requirement already satisfied: importlib-metadata in c:\\users\\victor\\.conda\\envs\\openmmlab\\lib\\site-packages (from dash>=2.6.0->open3d) (8.0.0)\n",
            "Requirement already satisfied: typing-extensions>=4.1.1 in c:\\users\\victor\\.conda\\envs\\openmmlab\\lib\\site-packages (from dash>=2.6.0->open3d) (4.11.0)\n",
            "Requirement already satisfied: requests in c:\\users\\victor\\.conda\\envs\\openmmlab\\lib\\site-packages (from dash>=2.6.0->open3d) (2.28.2)\n",
            "Requirement already satisfied: retrying in c:\\users\\victor\\.conda\\envs\\openmmlab\\lib\\site-packages (from dash>=2.6.0->open3d) (1.3.4)\n",
            "Requirement already satisfied: nest-asyncio in c:\\users\\victor\\.conda\\envs\\openmmlab\\lib\\site-packages (from dash>=2.6.0->open3d) (1.6.0)\n",
            "Requirement already satisfied: setuptools in c:\\users\\victor\\.conda\\envs\\openmmlab\\lib\\site-packages (from dash>=2.6.0->open3d) (60.2.0)\n",
            "Requirement already satisfied: comm>=0.1.3 in c:\\users\\victor\\.conda\\envs\\openmmlab\\lib\\site-packages (from ipywidgets>=8.0.4->open3d) (0.2.2)\n",
            "Requirement already satisfied: ipython>=6.1.0 in c:\\users\\victor\\.conda\\envs\\openmmlab\\lib\\site-packages (from ipywidgets>=8.0.4->open3d) (8.12.2)\n",
            "Requirement already satisfied: traitlets>=4.3.1 in c:\\users\\victor\\.conda\\envs\\openmmlab\\lib\\site-packages (from ipywidgets>=8.0.4->open3d) (5.14.3)\n",
            "Requirement already satisfied: widgetsnbextension~=4.0.11 in c:\\users\\victor\\.conda\\envs\\openmmlab\\lib\\site-packages (from ipywidgets>=8.0.4->open3d) (4.0.11)\n",
            "Requirement already satisfied: jupyterlab-widgets~=3.0.11 in c:\\users\\victor\\.conda\\envs\\openmmlab\\lib\\site-packages (from ipywidgets>=8.0.4->open3d) (3.0.11)\n",
            "Requirement already satisfied: fastjsonschema>=2.15 in c:\\users\\victor\\.conda\\envs\\openmmlab\\lib\\site-packages (from nbformat>=5.7.0->open3d) (2.20.0)\n",
            "Requirement already satisfied: jsonschema>=2.6 in c:\\users\\victor\\.conda\\envs\\openmmlab\\lib\\site-packages (from nbformat>=5.7.0->open3d) (4.22.0)\n",
            "Requirement already satisfied: jupyter-core!=5.0.*,>=4.12 in c:\\users\\victor\\.conda\\envs\\openmmlab\\lib\\site-packages (from nbformat>=5.7.0->open3d) (5.7.2)\n",
            "Requirement already satisfied: MarkupSafe>=2.1.1 in c:\\users\\victor\\.conda\\envs\\openmmlab\\lib\\site-packages (from werkzeug>=2.2.3->open3d) (2.1.3)\n",
            "Requirement already satisfied: Jinja2>=3.1.2 in c:\\users\\victor\\.conda\\envs\\openmmlab\\lib\\site-packages (from Flask<3.1,>=1.0.4->dash>=2.6.0->open3d) (3.1.4)\n",
            "Requirement already satisfied: itsdangerous>=2.1.2 in c:\\users\\victor\\.conda\\envs\\openmmlab\\lib\\site-packages (from Flask<3.1,>=1.0.4->dash>=2.6.0->open3d) (2.2.0)\n",
            "Requirement already satisfied: click>=8.1.3 in c:\\users\\victor\\.conda\\envs\\openmmlab\\lib\\site-packages (from Flask<3.1,>=1.0.4->dash>=2.6.0->open3d) (8.1.7)\n",
            "Requirement already satisfied: blinker>=1.6.2 in c:\\users\\victor\\.conda\\envs\\openmmlab\\lib\\site-packages (from Flask<3.1,>=1.0.4->dash>=2.6.0->open3d) (1.8.2)\n",
            "Requirement already satisfied: zipp>=0.5 in c:\\users\\victor\\.conda\\envs\\openmmlab\\lib\\site-packages (from importlib-metadata->dash>=2.6.0->open3d) (3.19.2)\n",
            "Requirement already satisfied: backcall in c:\\users\\victor\\.conda\\envs\\openmmlab\\lib\\site-packages (from ipython>=6.1.0->ipywidgets>=8.0.4->open3d) (0.2.0)\n",
            "Requirement already satisfied: decorator in c:\\users\\victor\\.conda\\envs\\openmmlab\\lib\\site-packages (from ipython>=6.1.0->ipywidgets>=8.0.4->open3d) (5.1.1)\n",
            "Requirement already satisfied: jedi>=0.16 in c:\\users\\victor\\.conda\\envs\\openmmlab\\lib\\site-packages (from ipython>=6.1.0->ipywidgets>=8.0.4->open3d) (0.19.1)\n",
            "Requirement already satisfied: matplotlib-inline in c:\\users\\victor\\.conda\\envs\\openmmlab\\lib\\site-packages (from ipython>=6.1.0->ipywidgets>=8.0.4->open3d) (0.1.7)\n",
            "Requirement already satisfied: pickleshare in c:\\users\\victor\\.conda\\envs\\openmmlab\\lib\\site-packages (from ipython>=6.1.0->ipywidgets>=8.0.4->open3d) (0.7.5)\n",
            "Requirement already satisfied: prompt-toolkit!=3.0.37,<3.1.0,>=3.0.30 in c:\\users\\victor\\.conda\\envs\\openmmlab\\lib\\site-packages (from ipython>=6.1.0->ipywidgets>=8.0.4->open3d) (3.0.47)\n",
            "Requirement already satisfied: pygments>=2.4.0 in c:\\users\\victor\\.conda\\envs\\openmmlab\\lib\\site-packages (from ipython>=6.1.0->ipywidgets>=8.0.4->open3d) (2.18.0)\n",
            "Requirement already satisfied: stack-data in c:\\users\\victor\\.conda\\envs\\openmmlab\\lib\\site-packages (from ipython>=6.1.0->ipywidgets>=8.0.4->open3d) (0.6.2)\n",
            "Requirement already satisfied: colorama in c:\\users\\victor\\.conda\\envs\\openmmlab\\lib\\site-packages (from ipython>=6.1.0->ipywidgets>=8.0.4->open3d) (0.4.6)\n",
            "Requirement already satisfied: attrs>=22.2.0 in c:\\users\\victor\\.conda\\envs\\openmmlab\\lib\\site-packages (from jsonschema>=2.6->nbformat>=5.7.0->open3d) (23.2.0)\n",
            "Requirement already satisfied: importlib-resources>=1.4.0 in c:\\users\\victor\\.conda\\envs\\openmmlab\\lib\\site-packages (from jsonschema>=2.6->nbformat>=5.7.0->open3d) (6.4.0)\n",
            "Requirement already satisfied: jsonschema-specifications>=2023.03.6 in c:\\users\\victor\\.conda\\envs\\openmmlab\\lib\\site-packages (from jsonschema>=2.6->nbformat>=5.7.0->open3d) (2023.12.1)\n",
            "Requirement already satisfied: pkgutil-resolve-name>=1.3.10 in c:\\users\\victor\\.conda\\envs\\openmmlab\\lib\\site-packages (from jsonschema>=2.6->nbformat>=5.7.0->open3d) (1.3.10)\n",
            "Requirement already satisfied: referencing>=0.28.4 in c:\\users\\victor\\.conda\\envs\\openmmlab\\lib\\site-packages (from jsonschema>=2.6->nbformat>=5.7.0->open3d) (0.35.1)\n",
            "Requirement already satisfied: rpds-py>=0.7.1 in c:\\users\\victor\\.conda\\envs\\openmmlab\\lib\\site-packages (from jsonschema>=2.6->nbformat>=5.7.0->open3d) (0.18.1)\n",
            "Requirement already satisfied: platformdirs>=2.5 in c:\\users\\victor\\.conda\\envs\\openmmlab\\lib\\site-packages (from jupyter-core!=5.0.*,>=4.12->nbformat>=5.7.0->open3d) (4.2.2)\n",
            "Requirement already satisfied: pywin32>=300 in c:\\users\\victor\\.conda\\envs\\openmmlab\\lib\\site-packages (from jupyter-core!=5.0.*,>=4.12->nbformat>=5.7.0->open3d) (306)\n",
            "Requirement already satisfied: tenacity>=6.2.0 in c:\\users\\victor\\.conda\\envs\\openmmlab\\lib\\site-packages (from plotly>=5.0.0->dash>=2.6.0->open3d) (8.4.2)\n",
            "Requirement already satisfied: packaging in c:\\users\\victor\\.conda\\envs\\openmmlab\\lib\\site-packages (from plotly>=5.0.0->dash>=2.6.0->open3d) (24.1)\n",
            "Requirement already satisfied: charset-normalizer<4,>=2 in c:\\users\\victor\\.conda\\envs\\openmmlab\\lib\\site-packages (from requests->dash>=2.6.0->open3d) (2.0.4)\n",
            "Requirement already satisfied: idna<4,>=2.5 in c:\\users\\victor\\.conda\\envs\\openmmlab\\lib\\site-packages (from requests->dash>=2.6.0->open3d) (3.7)\n",
            "Requirement already satisfied: urllib3<1.27,>=1.21.1 in c:\\users\\victor\\.conda\\envs\\openmmlab\\lib\\site-packages (from requests->dash>=2.6.0->open3d) (1.26.19)\n",
            "Requirement already satisfied: certifi>=2017.4.17 in c:\\users\\victor\\.conda\\envs\\openmmlab\\lib\\site-packages (from requests->dash>=2.6.0->open3d) (2024.6.2)\n",
            "Requirement already satisfied: six>=1.7.0 in c:\\users\\victor\\.conda\\envs\\openmmlab\\lib\\site-packages (from retrying->dash>=2.6.0->open3d) (1.16.0)\n",
            "Requirement already satisfied: parso<0.9.0,>=0.8.3 in c:\\users\\victor\\.conda\\envs\\openmmlab\\lib\\site-packages (from jedi>=0.16->ipython>=6.1.0->ipywidgets>=8.0.4->open3d) (0.8.4)\n",
            "Requirement already satisfied: wcwidth in c:\\users\\victor\\.conda\\envs\\openmmlab\\lib\\site-packages (from prompt-toolkit!=3.0.37,<3.1.0,>=3.0.30->ipython>=6.1.0->ipywidgets>=8.0.4->open3d) (0.2.13)\n",
            "Requirement already satisfied: executing>=1.2.0 in c:\\users\\victor\\.conda\\envs\\openmmlab\\lib\\site-packages (from stack-data->ipython>=6.1.0->ipywidgets>=8.0.4->open3d) (2.0.1)\n",
            "Requirement already satisfied: asttokens>=2.1.0 in c:\\users\\victor\\.conda\\envs\\openmmlab\\lib\\site-packages (from stack-data->ipython>=6.1.0->ipywidgets>=8.0.4->open3d) (2.4.1)\n",
            "Requirement already satisfied: pure-eval in c:\\users\\victor\\.conda\\envs\\openmmlab\\lib\\site-packages (from stack-data->ipython>=6.1.0->ipywidgets>=8.0.4->open3d) (0.2.2)\n",
            "Requirement already satisfied: scipy in c:\\users\\victor\\.conda\\envs\\openmmlab\\lib\\site-packages (1.10.1)\n",
            "Requirement already satisfied: numpy<1.27.0,>=1.19.5 in c:\\users\\victor\\.conda\\envs\\openmmlab\\lib\\site-packages (from scipy) (1.24.3)\n"
          ]
        }
      ],
      "source": [
        "!pip install open3d\n",
        "!pip install scipy\n",
        "\n",
        "import open3d as o3d\n",
        "from scipy.spatial.distance import directed_hausdorff\n",
        "\n",
        "# Função para calcular a Distância Hausdorff\n",
        "def hausdorff_distance(source_points, target_points):\n",
        "    d_forward = directed_hausdorff(source_points, target_points)[0]\n",
        "    d_backward = directed_hausdorff(target_points, source_points)[0]\n",
        "    return max(d_forward, d_backward)\n",
        "\n",
        "# Função para calcular o Índice de Jaccard\n",
        "def jaccard_index(source_points, target_points, voxel_size=0.02):\n",
        "    source_voxel = o3d.geometry.VoxelGrid.create_from_point_cloud(o3d.geometry.PointCloud(o3d.utility.Vector3dVector(source_points)), voxel_size)\n",
        "    target_voxel = o3d.geometry.VoxelGrid.create_from_point_cloud(o3d.geometry.PointCloud(o3d.utility.Vector3dVector(target_points)), voxel_size)\n",
        "\n",
        "    source_voxel_coords = set(tuple(v.grid_index) for v in source_voxel.get_voxels())\n",
        "    target_voxel_coords = set(tuple(v.grid_index) for v in target_voxel.get_voxels())\n",
        "\n",
        "    intersection = source_voxel_coords.intersection(target_voxel_coords)\n",
        "    union = source_voxel_coords.union(target_voxel_coords)\n",
        "\n",
        "    if not union:\n",
        "        return 1.0  # Caso especial onde ambas as nuvens de pontos não têm voxels\n",
        "\n",
        "    jaccard = len(intersection) / len(union)\n",
        "    return jaccard"
      ]
    }
  ],
  "metadata": {
    "colab": {
      "provenance": []
    },
    "kernelspec": {
      "display_name": "Python 3",
      "name": "python3"
    },
    "language_info": {
      "codemirror_mode": {
        "name": "ipython",
        "version": 3
      },
      "file_extension": ".py",
      "mimetype": "text/x-python",
      "name": "python",
      "nbconvert_exporter": "python",
      "pygments_lexer": "ipython3",
      "version": "3.8.19"
    }
  },
  "nbformat": 4,
  "nbformat_minor": 0
}
